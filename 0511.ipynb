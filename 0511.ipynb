{
  "nbformat": 4,
  "nbformat_minor": 0,
  "metadata": {
    "colab": {
      "name": "Untitled1.ipynb",
      "provenance": [],
      "authorship_tag": "ABX9TyOugpGbmy+lNBPi+y6BgWew",
      "include_colab_link": true
    },
    "kernelspec": {
      "name": "python3",
      "display_name": "Python 3"
    },
    "language_info": {
      "name": "python"
    }
  },
  "cells": [
    {
      "cell_type": "markdown",
      "metadata": {
        "id": "view-in-github",
        "colab_type": "text"
      },
      "source": [
        "<a href=\"https://colab.research.google.com/github/zhen18735/Introduction-to-Computers/blob/main/0511.ipynb\" target=\"_parent\"><img src=\"https://colab.research.google.com/assets/colab-badge.svg\" alt=\"Open In Colab\"/></a>"
      ]
    },
    {
      "cell_type": "code",
      "execution_count": 1,
      "metadata": {
        "colab": {
          "base_uri": "https://localhost:8080/"
        },
        "id": "TKrbI_Ao3mdM",
        "outputId": "5978fd0a-12be-40a1-d802-4f5048c2b3cc"
      },
      "outputs": [
        {
          "output_type": "stream",
          "name": "stdout",
          "text": [
            "test\n"
          ]
        }
      ],
      "source": [
        "print('test')"
      ]
    },
    {
      "cell_type": "code",
      "source": [
        "temp = float(input(\"請輸入你的體溫\"))\n",
        "if temp >=37.5:\n",
        "  print(\"體溫過高!\")\n",
        "elif temp >= 37 and temp < 37.4:\n",
        "  print(\"體溫略高!\")\n",
        "elif temp >= 34 and temp < 36.9:\n",
        "  print(\"體溫正常!\")\n",
        "else:\n",
        "  print(\"體溫異常，請重新量測!\")"
      ],
      "metadata": {
        "colab": {
          "base_uri": "https://localhost:8080/"
        },
        "id": "pVY0864R37m6",
        "outputId": "fce21990-7baa-47f8-e252-0471b7db28bf"
      },
      "execution_count": 7,
      "outputs": [
        {
          "output_type": "stream",
          "name": "stdout",
          "text": [
            "請輸入你的體溫37.5\n",
            "體溫過高!\n"
          ]
        }
      ]
    },
    {
      "cell_type": "code",
      "source": [
        "money = int(input(\"請輸入購物金:\"))\n",
        "if (money >= 10000):\n",
        " if (money >= 100000):\n",
        "  print(\"八折\",money * 0.8,end=\"元\\n\")\n",
        " elif(money >= 50000):\n",
        "  print(\"八五折\",money * 0.85,end=\"元\\n\")\n",
        " elif(money >= 30000):\n",
        "  print(\"九五折\",money * 0.95,end=\"元\\n\")\n",
        "else:\n",
        "  print(\"沒打折\",money,end=\"元\\n\")"
      ],
      "metadata": {
        "colab": {
          "base_uri": "https://localhost:8080/"
        },
        "id": "M67Md42i7cBw",
        "outputId": "8d44a7b5-48e4-40dd-e63d-c42f6e2f4613"
      },
      "execution_count": 28,
      "outputs": [
        {
          "output_type": "stream",
          "name": "stdout",
          "text": [
            "請輸入購物金:50000\n",
            "八五折 42500.0元\n"
          ]
        }
      ]
    },
    {
      "cell_type": "code",
      "source": [
        "month = int(input(\"請輸入月份:\"))\n",
        "if month >= 3 and month <=5:\n",
        "  print(month,\"月是春天!\")\n",
        "elif month >=6 and month <=8:\n",
        "  print(month,\"月是夏天!\")\n",
        "elif month >=9 and month <=11:\n",
        "  print(month,\"月是秋天!\")\n",
        "elif month >=12 and month <=2:\n",
        "  print(month,\"月是冬天!\")\n",
        "else:\n",
        "  print(\"月份不在範圍內\")"
      ],
      "metadata": {
        "colab": {
          "base_uri": "https://localhost:8080/"
        },
        "id": "9IK31J7e_dgD",
        "outputId": "d31a411b-9d18-4ebd-b04a-e1703a16f094"
      },
      "execution_count": 35,
      "outputs": [
        {
          "output_type": "stream",
          "name": "stdout",
          "text": [
            "請輸入月份:9\n",
            "9 月是秋天!\n"
          ]
        }
      ]
    },
    {
      "cell_type": "code",
      "source": [
        "cash = int(input(\"請輸入今年收入淨額:\"))\n",
        "if (cash >= 2000000):\n",
        "  print(\"付稅金額:\",cash * 0.3,end=\"元\\n\")\n",
        "elif (cash >= 1000000):\n",
        "  print(\"付稅金額:\",cash * 0.21,end=\"元\\n\")\n",
        "elif(cash >= 600000):\n",
        "  print(\"付稅金額:\",cash * 0.13,end=\"元\\n\")\n",
        "elif(cash >= 300000):\n",
        "  print(\"付稅金額:\",cash * 0.06,end=\"元\\n\")\n",
        "else:\n",
        "  print(\"付稅金額,=0元\")\n",
        "  cash = int(input(\"請輸入今年收入淨額:\"))\n",
        "if (cash >= 2000000):\n",
        "  print(\"付稅金額:\",cash * 0.3,end=\"元\\n\")\n",
        "elif (cash >= 1000000):\n",
        "  print(\"付稅金額:\",cash * 0.21,end=\"元\\n\")\n",
        "elif(cash >= 600000):\n",
        "  print(\"付稅金額:\",cash * 0.13,end=\"元\\n\")\n",
        "elif(cash >= 300000):\n",
        "  print(\"付稅金額:\",cash * 0.06,end=\"元\\n\")\n",
        "else:\n",
        "  print(\"付稅金額,=0元\")"
      ],
      "metadata": {
        "colab": {
          "base_uri": "https://localhost:8080/"
        },
        "id": "tTPsrLlRB7KI",
        "outputId": "20b83200-6776-411d-c08b-d5e0311ba4fe"
      },
      "execution_count": 44,
      "outputs": [
        {
          "output_type": "stream",
          "name": "stdout",
          "text": [
            "請輸入今年收入淨額:10000\n",
            "付稅金額,=0元\n",
            "請輸入今年收入淨額:2000000\n",
            "付稅金額: 600000.0元\n"
          ]
        }
      ]
    },
    {
      "cell_type": "code",
      "source": [
        "score = int(input(\"請輸入成績:\"))\n",
        "if score>=90:\n",
        "  print(\"A\")\n",
        "elif score>=80 and score<=89:\n",
        "    print(\"B\")\n",
        "elif score>=70 and score<=79:\n",
        "    print(\"C\")\n",
        "elif score>=600 and score<=69:\n",
        "    print(\"D\")\n",
        "else:\n",
        "    print(\"E\")\n",
        "score = int(input(\"請輸入成績:\"))\n",
        "if score>=90:\n",
        "  print(\"A\")\n",
        "elif score>=80 and score<=89:\n",
        "    print(\"B\")\n",
        "elif score>=70 and score<=79:\n",
        "    print(\"C\")\n",
        "elif score>=600 and score<=69:\n",
        "    print(\"D\")\n",
        "else:\n",
        "    print(\"E\")\n",
        "score = int(input(\"請輸入成績:\"))\n",
        "if score>=90:\n",
        "  print(\"A\")\n",
        "elif score>=80 and score<=89:\n",
        "    print(\"B\")\n",
        "elif score>=70 and score<=79:\n",
        "    print(\"C\")\n",
        "elif score>=600 and score<=69:\n",
        "    print(\"D\")\n",
        "else:\n",
        "    print(\"E\")\n"
      ],
      "metadata": {
        "colab": {
          "base_uri": "https://localhost:8080/"
        },
        "id": "PjNGDiXEFZ2m",
        "outputId": "759f5bc3-59e4-4505-9c7a-47e336fb48a4"
      },
      "execution_count": 48,
      "outputs": [
        {
          "output_type": "stream",
          "name": "stdout",
          "text": [
            "請輸入成績:90\n",
            "A\n",
            "請輸入成績:80\n",
            "B\n",
            "請輸入成績:50\n",
            "E\n"
          ]
        }
      ]
    },
    {
      "cell_type": "code",
      "source": [
        ""
      ],
      "metadata": {
        "id": "HzdfIRIOA7vU"
      },
      "execution_count": null,
      "outputs": []
    }
  ]
}
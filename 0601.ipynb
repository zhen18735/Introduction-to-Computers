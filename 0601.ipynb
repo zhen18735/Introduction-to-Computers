{
  "nbformat": 4,
  "nbformat_minor": 0,
  "metadata": {
    "colab": {
      "name": "0601.ipynb",
      "provenance": [],
      "authorship_tag": "ABX9TyMiki6qaCO4s3aIBSYwP28I",
      "include_colab_link": true
    },
    "kernelspec": {
      "name": "python3",
      "display_name": "Python 3"
    },
    "language_info": {
      "name": "python"
    }
  },
  "cells": [
    {
      "cell_type": "markdown",
      "metadata": {
        "id": "view-in-github",
        "colab_type": "text"
      },
      "source": [
        "<a href=\"https://colab.research.google.com/github/zhen18735/Introduction-to-Computers/blob/main/0601.ipynb\" target=\"_parent\"><img src=\"https://colab.research.google.com/assets/colab-badge.svg\" alt=\"Open In Colab\"/></a>"
      ]
    },
    {
      "cell_type": "code",
      "execution_count": null,
      "metadata": {
        "colab": {
          "base_uri": "https://localhost:8080/"
        },
        "id": "zA5vl3JKnTgm",
        "outputId": "54aba298-3eb7-415a-f7ef-b776ffbb0ea8"
      },
      "outputs": [
        {
          "output_type": "stream",
          "name": "stdout",
          "text": [
            "0601\n"
          ]
        }
      ],
      "source": [
        "print(\"0601\")"
      ]
    },
    {
      "cell_type": "code",
      "source": [
        "for i in range(2,10):\n",
        "   for j in range(1,10):\n",
        "     product= i * j\n",
        "     print(\"%d*%d=%2d\" %(i,j,product) , end=\"\")\n",
        "   print()"
      ],
      "metadata": {
        "colab": {
          "base_uri": "https://localhost:8080/"
        },
        "id": "2EBdDPQTnhto",
        "outputId": "8cab8fdc-1cef-4e46-a4f7-3999eb99655a"
      },
      "execution_count": null,
      "outputs": [
        {
          "output_type": "stream",
          "name": "stdout",
          "text": [
            "2*1= 22*2= 42*3= 62*4= 82*5=102*6=122*7=142*8=162*9=18\n",
            "3*1= 33*2= 63*3= 93*4=123*5=153*6=183*7=213*8=243*9=27\n",
            "4*1= 44*2= 84*3=124*4=164*5=204*6=244*7=284*8=324*9=36\n",
            "5*1= 55*2=105*3=155*4=205*5=255*6=305*7=355*8=405*9=45\n",
            "6*1= 66*2=126*3=186*4=246*5=306*6=366*7=426*8=486*9=54\n",
            "7*1= 77*2=147*3=217*4=287*5=357*6=427*7=497*8=567*9=63\n",
            "8*1= 88*2=168*3=248*4=328*5=408*6=488*7=568*8=648*9=72\n",
            "9*1= 99*2=189*3=279*4=369*5=459*6=549*7=639*8=729*9=81\n"
          ]
        }
      ]
    },
    {
      "cell_type": "code",
      "source": [
        "a = int(input(\"請輸入a的值:\"))\n",
        "b = int(input(\"請輸入b的值:\"))\n",
        "\n",
        "maxon = a*b\n",
        "for i in range(1,maxon+1):\n",
        "  if(i % a == 0 and i % b ==0):\n",
        "    break\n",
        "print(\"%d和 %d的最小公倍數= %d\"%(a,b,i))"
      ],
      "metadata": {
        "colab": {
          "base_uri": "https://localhost:8080/"
        },
        "id": "05wN7A0ppWl5",
        "outputId": "db215b7b-48df-4c63-a43a-2860f5434674"
      },
      "execution_count": null,
      "outputs": [
        {
          "output_type": "stream",
          "name": "stdout",
          "text": [
            "請輸入a的值:5\n",
            "請輸入b的值:4\n",
            "5和 4的最小公倍數= 20\n"
          ]
        }
      ]
    },
    {
      "cell_type": "code",
      "source": [
        "n = int(input(\"請輸入一個正整數:\"))\n",
        "for i in range(1,n+1):\n",
        "  if i %5 ==0:\n",
        "    continue\n",
        "  print(i, end=\" \")"
      ],
      "metadata": {
        "colab": {
          "base_uri": "https://localhost:8080/"
        },
        "id": "2pVyybNpq93Z",
        "outputId": "0ad9b1ac-2620-47f1-a3cd-c44e215494b3"
      },
      "execution_count": null,
      "outputs": [
        {
          "output_type": "stream",
          "name": "stdout",
          "text": [
            "請輸入一個正整數:25\n",
            "1 2 3 4 6 7 8 9 11 12 13 14 16 17 18 19 21 22 23 24 "
          ]
        }
      ]
    },
    {
      "cell_type": "code",
      "source": [
        "total = n = 0\n",
        "while(n<10):\n",
        "  n += 1\n",
        "  total +=n\n",
        "print(total)"
      ],
      "metadata": {
        "colab": {
          "base_uri": "https://localhost:8080/"
        },
        "id": "c6QOBLWbsp1x",
        "outputId": "883f8b50-d23a-4469-d5c9-4414db96bf81"
      },
      "execution_count": null,
      "outputs": [
        {
          "output_type": "stream",
          "name": "stdout",
          "text": [
            "55\n"
          ]
        }
      ]
    },
    {
      "cell_type": "code",
      "source": [
        "total = n = 0\n",
        "while(n<=10):\n",
        "  total +=n\n",
        "  n += 1\n",
        "print(total)"
      ],
      "metadata": {
        "colab": {
          "base_uri": "https://localhost:8080/"
        },
        "id": "RIsTPHgguSM0",
        "outputId": "979860b4-a246-4b5c-8ebd-6f55cd267f23"
      },
      "execution_count": null,
      "outputs": [
        {
          "output_type": "stream",
          "name": "stdout",
          "text": [
            "55\n"
          ]
        }
      ]
    },
    {
      "cell_type": "code",
      "source": [
        "total = n = 0\n",
        "while n<=10:\n",
        "  total +=n\n",
        "print(total)"
      ],
      "metadata": {
        "colab": {
          "base_uri": "https://localhost:8080/",
          "height": 237
        },
        "id": "rrC09ef2ubJK",
        "outputId": "ce79715a-7a42-43c8-988d-45f2d305679c"
      },
      "execution_count": null,
      "outputs": [
        {
          "output_type": "error",
          "ename": "KeyboardInterrupt",
          "evalue": "ignored",
          "traceback": [
            "\u001b[0;31m---------------------------------------------------------------------------\u001b[0m",
            "\u001b[0;31mKeyboardInterrupt\u001b[0m                         Traceback (most recent call last)",
            "\u001b[0;32m<ipython-input-24-583df99178a3>\u001b[0m in \u001b[0;36m<module>\u001b[0;34m()\u001b[0m\n\u001b[1;32m      1\u001b[0m \u001b[0mtotal\u001b[0m \u001b[0;34m=\u001b[0m \u001b[0mn\u001b[0m \u001b[0;34m=\u001b[0m \u001b[0;36m0\u001b[0m\u001b[0;34m\u001b[0m\u001b[0;34m\u001b[0m\u001b[0m\n\u001b[0;32m----> 2\u001b[0;31m \u001b[0;32mwhile\u001b[0m \u001b[0mn\u001b[0m\u001b[0;34m<=\u001b[0m\u001b[0;36m10\u001b[0m\u001b[0;34m:\u001b[0m\u001b[0;34m\u001b[0m\u001b[0;34m\u001b[0m\u001b[0m\n\u001b[0m\u001b[1;32m      3\u001b[0m   \u001b[0mtotal\u001b[0m \u001b[0;34m+=\u001b[0m\u001b[0mn\u001b[0m\u001b[0;34m\u001b[0m\u001b[0;34m\u001b[0m\u001b[0m\n\u001b[1;32m      4\u001b[0m \u001b[0;34m\u001b[0m\u001b[0m\n\u001b[1;32m      5\u001b[0m \u001b[0mprint\u001b[0m\u001b[0;34m(\u001b[0m\u001b[0mtotal\u001b[0m\u001b[0;34m)\u001b[0m\u001b[0;34m\u001b[0m\u001b[0;34m\u001b[0m\u001b[0m\n",
            "\u001b[0;31mKeyboardInterrupt\u001b[0m: "
          ]
        }
      ]
    },
    {
      "cell_type": "code",
      "source": [
        "total = i = 1\n",
        "n = int(input(\"請輸入正整數n的值:\"))\n",
        "while i<=n:\n",
        "  total *=i\n",
        "  i+=1\n",
        "print(\"%d!=%d\" % (n,total))"
      ],
      "metadata": {
        "colab": {
          "base_uri": "https://localhost:8080/"
        },
        "id": "idE8yGaPvSAK",
        "outputId": "695e84e5-1231-4e35-d2c0-c97d1a67fcc0"
      },
      "execution_count": null,
      "outputs": [
        {
          "output_type": "stream",
          "name": "stdout",
          "text": [
            "請輸入正整數n的值:100\n",
            "100!=93326215443944152681699238856266700490715968264381621468592963895217599993229915608941463976156518286253697920827223758251185210916864000000000000000000000000\n"
          ]
        }
      ]
    },
    {
      "cell_type": "code",
      "source": [
        "total = i = 0\n",
        "while i<50:\n",
        "   i+=2\n",
        "   total +=i\n",
        "print('0~50的偶數和結果是',total)\n",
        "total = k = 1\n",
        "while k+1<50:\n",
        "    k +=2\n",
        "    total +=k\n",
        "print('0~50的奇數和結果是',total)\n"
      ],
      "metadata": {
        "id": "dfVAgGh-wljM",
        "colab": {
          "base_uri": "https://localhost:8080/"
        },
        "outputId": "001d974f-665d-4164-8dbe-3e5132725336"
      },
      "execution_count": 10,
      "outputs": [
        {
          "output_type": "stream",
          "name": "stdout",
          "text": [
            "0~50的偶數和結果是 650\n",
            "0~50的奇數和結果是 625\n"
          ]
        }
      ]
    },
    {
      "cell_type": "code",
      "source": [
        "n = int(input('請輸入正整數:'))\n",
        "for i in range(n,0,-1):\n",
        "  for k in range(i,0,-1):\n",
        "    print(\"*\",end=\" \")\n",
        "  print()\n",
        "n = int(input(\"請輸入正整數:\"))\n",
        "for i in range(n,0,-1):\n",
        "  for k in range(i,0,-1):\n",
        "    print(\"*\",end =\" \")\n",
        "  print()"
      ],
      "metadata": {
        "id": "dpZvt_XPtvF0",
        "colab": {
          "base_uri": "https://localhost:8080/"
        },
        "outputId": "437ce9a1-db2d-4b86-b01d-4d903823e1f7"
      },
      "execution_count": 11,
      "outputs": [
        {
          "output_type": "stream",
          "name": "stdout",
          "text": [
            "請輸入正整數:5\n",
            "* * * * * \n",
            "* * * * \n",
            "* * * \n",
            "* * \n",
            "* \n",
            "請輸入正整數:7\n",
            "* * * * * * * \n",
            "* * * * * * \n",
            "* * * * * \n",
            "* * * * \n",
            "* * * \n",
            "* * \n",
            "* \n"
          ]
        }
      ]
    },
    {
      "cell_type": "code",
      "source": [
        "a = int(input(\"請輸入正整數:\"))\n",
        "j = 0\n",
        "print(a,\"的因數有\",end=\" \")\n",
        "for y in range(1,a+1):\n",
        "  if a % y ==0:\n",
        "   j+=1\n",
        "   print(y,end = \" \")\n",
        "if j ==2:\n",
        "  print()\n",
        "  print(a,\"是質數\")\n",
        "else:\n",
        "  print()\n",
        "  print(a,\"不是質數\")"
      ],
      "metadata": {
        "colab": {
          "base_uri": "https://localhost:8080/"
        },
        "id": "ksIf70bX84G1",
        "outputId": "d622f121-598f-40d7-80a3-5f1dec987043"
      },
      "execution_count": 13,
      "outputs": [
        {
          "output_type": "stream",
          "name": "stdout",
          "text": [
            "請輸入正整數:12\n",
            "12 的因數有 1 2 3 4 6 12 \n",
            "12 不是質數\n"
          ]
        }
      ]
    },
    {
      "cell_type": "code",
      "source": [
        "n = 0\n",
        "for x in range(1,100+1):\n",
        "  if x%3==0 or x%7==0:\n",
        "    n+=x\n",
        "print(\"數值1~100中,所有是3或7被樹的數之總和=\",n)"
      ],
      "metadata": {
        "colab": {
          "base_uri": "https://localhost:8080/"
        },
        "id": "WJoWD6jX9sBu",
        "outputId": "f29147de-3d14-4aec-daad-217f3e4f7bec"
      },
      "execution_count": 14,
      "outputs": [
        {
          "output_type": "stream",
          "name": "stdout",
          "text": [
            "數值1~100中,所有是3或7被樹的數之總和= 2208\n"
          ]
        }
      ]
    }
  ]
}